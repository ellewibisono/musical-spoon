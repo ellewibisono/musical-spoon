{
 "cells": [
  {
   "cell_type": "markdown",
   "metadata": {},
   "source": [
    "# Python Assignment "
   ]
  },
  {
   "cell_type": "code",
   "execution_count": 2,
   "metadata": {
    "collapsed": false
   },
   "outputs": [
    {
     "name": "stdout",
     "output_type": "stream",
     "text": [
      "  % Total    % Received % Xferd  Average Speed   Time    Time     Time  Current\n",
      "                                 Dload  Upload   Total   Spent    Left  Speed\n",
      "100 21190  100 21190    0     0   114k      0 --:--:-- --:--:-- --:--:--  492k\n"
     ]
    }
   ],
   "source": [
    "!curl -O http://rachelss.github.io/Bioinformatics/sample.fastq\n",
    "\n"
   ]
  },
  {
   "cell_type": "code",
   "execution_count": 4,
   "metadata": {
    "collapsed": true
   },
   "outputs": [],
   "source": [
    "filename = 'sample.fastq'\n",
    "f = open(filename,'r')\n",
    "fastq = f.readlines()"
   ]
  },
  {
   "cell_type": "markdown",
   "metadata": {},
   "source": [
    "**Problem 1** : Count the number of each base across all sequences."
   ]
  },
  {
   "cell_type": "code",
   "execution_count": 67,
   "metadata": {
    "collapsed": false
   },
   "outputs": [],
   "source": [
    "def count_2kmer():\n",
    "    '''This function counts the number of each base across all sequences'''\n",
    "    counter={'A':0,'C':0,'G':0,'T':0}\n",
    "    for line_number,line in enumerate(fastq):\n",
    "        if line_number%4==1: #if it's a sequencing read: if it's line 1+4n: if line number / 4 leaves a remainder of 1\n",
    "            line=line.rstrip() #\n",
    "            for base in line:\n",
    "                counter[base]+=1 #add value of 1 to each base key in the counter dictionary \n",
    "    print(counter)"
   ]
  },
  {
   "cell_type": "code",
   "execution_count": 68,
   "metadata": {
    "collapsed": false
   },
   "outputs": [
    {
     "name": "stdout",
     "output_type": "stream",
     "text": [
      "{'A': 2517, 'C': 2550, 'G': 2489, 'T': 2444}\n"
     ]
    }
   ],
   "source": [
    "count_2kmer()"
   ]
  },
  {
   "cell_type": "markdown",
   "metadata": {},
   "source": [
    "**Problem 2** : Count the number of each pair of bases (described as kmers of size 2).\n"
   ]
  },
  {
   "cell_type": "code",
   "execution_count": 69,
   "metadata": {
    "collapsed": false
   },
   "outputs": [],
   "source": [
    "def count2kmer_unknown():\n",
    "    '''This function counts the number of each pair of bases specified in the dictionary'''\n",
    "    counter2={'AA':0,'CC':0,'GG':0,'TT':0, 'CG':0, 'CT':0}\n",
    "    number= 1\n",
    "    for line_number,line in enumerate(fastq):\n",
    "        if line_number%4==1: #if it's a sequencing read: if it's line 1+4n: if line number / 4 leaves a remainder of 1\n",
    "            line=line.rstrip()\n",
    "            for base_number,base in enumerate(line): #enumerate each base in each line \n",
    "                if base_number <(len(line)-number): #statement to stop for loop when there is not enough bases to pair \n",
    "                    base1= line[base_number] #grab first base of the pair \n",
    "                    base2= line[base_number+number] #grab second base of the pair \n",
    "                    kmer= (base1+base2) #combine both bases to create a base pair                 \n",
    "                    if kmer in counter2: #match base pairs in in the lines with dictionary keys\n",
    "                        counter2[kmer]+=1 #change values in the dictionary based on match \n",
    "    print(counter2)"
   ]
  },
  {
   "cell_type": "code",
   "execution_count": 70,
   "metadata": {
    "collapsed": false
   },
   "outputs": [
    {
     "name": "stdout",
     "output_type": "stream",
     "text": [
      "{'AA': 632, 'TT': 583, 'GG': 581, 'CG': 623, 'CT': 636, 'CC': 630}\n"
     ]
    }
   ],
   "source": [
    "count2kmer_unknown()"
   ]
  },
  {
   "cell_type": "markdown",
   "metadata": {},
   "source": [
    "**Problem 3** : Count the number of each pair of bases, without  assuming you know in advance the possible pairs (i.e. start with an empty dictionary). Alter the counting function to allow for counting kmers of any size.\n"
   ]
  },
  {
   "cell_type": "code",
   "execution_count": 71,
   "metadata": {
    "collapsed": false
   },
   "outputs": [],
   "source": [
    "def count_kmers(number):\n",
    "    '''This function count the number of kmers with a specified length. Kmer length is specified \n",
    "    through the variable \"numbers\" when we call this function'''\n",
    "    counter3= {} #empty dictionary \n",
    "    for line_number,line in enumerate(fastq): \n",
    "        if line_number%4==1: #if it's a sequencing read: if it's line 1+4n: if line number / 4 leaves a remainder of 1\n",
    "            line=line.rstrip()\n",
    "            for base_number,base in enumerate(line):\n",
    "                if base_number <(len(line)-number): #statement to stop for loop when there is not enough bases to pair\n",
    "                    kmer= line[base_number:base_number+number] #create kmer based on specified length               \n",
    "                    if kmer not in counter3: #add keys to the dictionary \n",
    "                        counter3[kmer]=int()\n",
    "                        for kmer in counter3: #add values to the dictionary \n",
    "                            counter3[kmer]+=1\n",
    "    print(counter3)"
   ]
  },
  {
   "cell_type": "code",
   "execution_count": 72,
   "metadata": {
    "collapsed": false
   },
   "outputs": [
    {
     "name": "stdout",
     "output_type": "stream",
     "text": [
      "{'AGC': 31, 'CGG': 15, 'TCT': 48, 'TCC': 24, 'GAT': 56, 'GGG': 9, 'CAC': 62, 'GAA': 39, 'CCC': 4, 'CAG': 8, 'TAT': 1, 'AGG': 27, 'TCG': 22, 'GAC': 44, 'GTA': 10, 'TGG': 21, 'TGT': 6, 'AGA': 37, 'CAA': 34, 'GTT': 7, 'TCA': 63, 'AGT': 11, 'AAG': 38, 'CAT': 41, 'TGC': 43, 'GGT': 26, 'CCA': 35, 'CTA': 47, 'CGA': 45, 'ATA': 55, 'GCT': 52, 'AAT': 33, 'ACA': 3, 'ACT': 23, 'TTA': 12, 'AAA': 19, 'GCC': 36, 'TTC': 64, 'CCG': 60, 'ACC': 61, 'TAA': 32, 'CTC': 30, 'ATT': 2, 'GGA': 20, 'GTC': 25, 'CTG': 5, 'ATG': 40, 'CTT': 51, 'TAC': 54, 'ACG': 46, 'TTT': 13, 'GAG': 28, 'TGA': 57, 'GTG': 58, 'AAC': 29, 'GCG': 16, 'CGT': 59, 'ATC': 49, 'CCT': 17, 'GCA': 42, 'TTG': 50, 'CGC': 53, 'TAG': 18, 'GGC': 14}\n"
     ]
    }
   ],
   "source": [
    "count_kmers(number=3)"
   ]
  },
  {
   "cell_type": "code",
   "execution_count": 73,
   "metadata": {
    "collapsed": false
   },
   "outputs": [
    {
     "name": "stdout",
     "output_type": "stream",
     "text": [
      "{'TCTC': 94, 'CATA': 14, 'AGGG': 126, 'TCGC': 149, 'CCAC': 110, 'ATCC': 6, 'CTCG': 193, 'GTAG': 86, 'ACCT': 11, 'TCGG': 148, 'TATG': 59, 'AGGT': 204, 'TTTG': 83, 'GAGT': 158, 'GGCT': 61, 'AGTC': 107, 'ATTG': 40, 'TTCT': 79, 'AGTT': 143, 'ACAT': 42, 'CTGA': 109, 'TTAC': 44, 'ATTT': 26, 'CTTA': 45, 'GGAG': 170, 'CGGC': 165, 'CAGT': 144, 'TCCA': 2, 'TAGA': 76, 'GCGG': 57, 'GTTT': 84, 'ATAG': 182, 'GGTA': 87, 'ACCG': 253, 'CTAC': 237, 'CATC': 132, 'AATT': 97, 'CCTA': 10, 'CAAA': 137, 'GTTA': 31, 'CAGA': 93, 'GTAC': 73, 'AGGA': 171, 'TTTC': 80, 'GTCC': 202, 'GCTT': 243, 'ATCT': 239, 'CGTA': 35, 'CCGA': 200, 'TCGT': 192, 'TGGG': 114, 'CCTG': 17, 'CCAG': 102, 'ATCG': 12, 'GCTG': 15, 'CGGT': 147, 'CAGG': 101, 'GTGT': 123, 'TCAG': 145, 'ATAT': 28, 'CCGG': 153, 'GGGT': 151, 'GCAT': 230, 'GAAG': 226, 'TAAG': 214, 'GAGA': 52, 'GTCT': 74, 'ACAC': 104, 'TTCC': 180, 'CGAT': 128, 'ACGC': 38, 'TATA': 33, 'TCTT': 20, 'CTAG': 77, 'CACT': 130, 'TGTG': 99, 'CAGC': 5, 'CCGT': 252, 'CACG': 103, 'AGCA': 21, 'CCAT': 116, 'ACTA': 187, 'GATC': 240, 'CTTT': 162, 'TAAA': 186, 'TTGA': 241, 'ACCC': 29, 'TAAT': 54, 'TGCG': 67, 'GCGA': 167, 'AGAC': 224, 'CTAA': 215, 'GACG': 199, 'TTGC': 68, 'TGGA': 190, 'ACGT': 72, 'CGCG': 37, 'TCCG': 201, 'AGAA': 197, 'TCTA': 238, 'ATGA': 228, 'TAAC': 155, 'GCCC': 118, 'TTAA': 55, 'CAAG': 49, 'CTCT': 78, 'TACC': 246, 'TCAT': 133, 'TTGT': 82, 'CTGT': 19, 'TGAT': 249, 'TTCG': 89, 'CGAC': 234, 'GAGG': 205, 'GCTA': 216, 'GGCG': 58, 'CACC': 254, 'TCCT': 179, 'AACT': 195, 'AAAA': 185, 'GACA': 51, 'TAGT': 85, 'ATAA': 18, 'GGAA': 112, 'AAGT': 108, 'AACG': 207, 'TGGC': 62, 'GATA': 248, 'CGAG': 206, 'ACTT': 135, 'GGAT': 176, 'CTCA': 210, 'GAAT': 98, 'CTTG': 242, 'GATT': 25, 'CAAC': 208, 'TACG': 236, 'CCCG': 100, 'CCCC': 47, 'GTGG': 191, 'CATG': 229, 'TATT': 27, 'CTTC': 134, 'GAGC': 169, 'CCTC': 106, 'GTCG': 150, 'AACC': 154, 'TACT': 32, 'GTTC': 90, 'CGCC': 223, 'AGCT': 212, 'ACTG': 121, 'TTAT': 1, 'GTGA': 250, 'TGCT': 217, 'CTGG': 22, 'AGAT': 9, 'TTTA': 160, 'AAGA': 225, 'TTAG': 159, 'AACA': 24, 'TCGA': 129, 'ACTC': 194, 'ATTA': 56, 'ACGA': 235, 'TGTT': 70, 'ATCA': 131, 'CGCT': 244, 'TTGG': 177, 'GTAA': 156, 'ACAG': 7, 'TTCA': 256, 'TACA': 43, 'GGCC': 164, 'TGAG': 141, 'TCTG': 23, 'CGTC': 8, 'GGGA': 113, 'CTGC': 120, 'CGGA': 30, 'GACT': 188, 'TGGT': 88, 'AATA': 183, 'AGCG': 168, 'CGTT': 71, 'ACGG': 166, 'AAGG': 172, 'TGAA': 227, 'GGGC': 4, 'GTGC': 232, 'AGCC': 48, 'ACCA': 111, 'CAAT': 220, 'TAGG': 127, 'GTTG': 142, 'GGTT': 91, 'AAAG': 173, 'TGTC': 122, 'GTAT': 34, 'GGCA': 139, 'GATG': 175, 'CATT': 41, 'CGCA': 65, 'CCAA': 221, 'GCAG': 64, 'GCGT': 36, 'CGGG': 152, 'GCAA': 138, 'GCAC': 39, 'CCCT': 46, 'TGCA': 231, 'TTTT': 161, 'TGAC': 3, 'CACA': 105, 'GGGG': 125, 'ATAC': 247, 'ACAA': 50, 'AGTA': 157, 'CGTG': 251, 'CCGC': 245, 'GGTC': 203, 'GGAC': 189, 'GAAC': 196, 'TGTA': 81, 'ATTC': 96, 'TCAC': 255, 'AATG': 219, 'GACC': 233, 'TCCC': 16, 'GCCT': 163, 'AATC': 95, 'CCTT': 178, 'AGAG': 53, 'GCGC': 66, 'TATC': 13, 'CTAT': 60, 'GTCA': 146, 'ATGG': 115, 'AAGC': 213, 'GAAA': 174, 'GGTG': 124, 'AAAT': 184, 'GCCG': 69, 'AGGC': 140, 'ATGT': 92, 'AGTG': 75, 'GCCA': 222, 'TCAA': 209, 'TGCC': 119, 'CTCC': 63, 'TAGC': 181, 'ATGC': 218, 'CCCA': 117, 'AAAC': 136, 'GCTC': 211, 'CGAA': 198}\n"
     ]
    }
   ],
   "source": [
    "count_kmers(number=4)"
   ]
  },
  {
   "cell_type": "code",
   "execution_count": null,
   "metadata": {
    "collapsed": true
   },
   "outputs": [],
   "source": []
  }
 ],
 "metadata": {
  "anaconda-cloud": {},
  "kernelspec": {
   "display_name": "Python [default]",
   "language": "python",
   "name": "python3"
  },
  "language_info": {
   "codemirror_mode": {
    "name": "ipython",
    "version": 3
   },
   "file_extension": ".py",
   "mimetype": "text/x-python",
   "name": "python",
   "nbconvert_exporter": "python",
   "pygments_lexer": "ipython3",
   "version": "3.5.2"
  }
 },
 "nbformat": 4,
 "nbformat_minor": 1
}
